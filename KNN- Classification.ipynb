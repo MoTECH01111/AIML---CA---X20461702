{
 "cells": [
  {
   "cell_type": "code",
   "execution_count": 1,
   "id": "130c94a2-3d77-424d-bb03-014182a198d2",
   "metadata": {},
   "outputs": [],
   "source": [
    "# Import libraries needed to train models\n",
    "import pandas as pd\n",
    "import numpy as np\n",
    "import matplotlib.pyplot as plt\n",
    "import seaborn as sns\n",
    "from sklearn.model_selection import train_test_split\n",
    "from sklearn.preprocessing import LabelEncoder, StandardScaler\n",
    "from sklearn.neighbors import KNeighborsClassifier\n",
    "from sklearn.metrics import classification_report, confusion_matrix, accuracy_score"
   ]
  },
  {
   "cell_type": "code",
   "execution_count": 2,
   "id": "064e0da0-8a38-4dbf-8c5d-aa7bb38ce496",
   "metadata": {},
   "outputs": [
    {
     "name": "stdout",
     "output_type": "stream",
     "text": [
      "Dataset Overview:\n",
      "   VIN (1-10)    County       City State  Postal Code  Model Year        Make  \\\n",
      "0  1N4AZ0CP8D      King  Shoreline    WA      98177.0        2013      NISSAN   \n",
      "1  5YJSA1E45K      King    Seattle    WA      98112.0        2019       TESLA   \n",
      "2  WVGUNPE28M    Kitsap     Olalla    WA      98359.0        2021  VOLKSWAGEN   \n",
      "3  JTDKARFP6H  Thurston    Olympia    WA      98501.0        2017      TOYOTA   \n",
      "4  1FADP5CU9G  Thurston    Olympia    WA      98506.0        2016        FORD   \n",
      "\n",
      "         Model                   Electric Vehicle Type  \\\n",
      "0         LEAF          Battery Electric Vehicle (BEV)   \n",
      "1      MODEL S          Battery Electric Vehicle (BEV)   \n",
      "2         ID.4          Battery Electric Vehicle (BEV)   \n",
      "3  PRIUS PRIME  Plug-in Hybrid Electric Vehicle (PHEV)   \n",
      "4        C-MAX  Plug-in Hybrid Electric Vehicle (PHEV)   \n",
      "\n",
      "                      Clean Alternative Fuel Vehicle  Electric Range  \\\n",
      "0            Clean Alternative Fuel Vehicle Eligible            75.0   \n",
      "1            Clean Alternative Fuel Vehicle Eligible           270.0   \n",
      "2  Eligibility unknown as battery range has not b...             0.0   \n",
      "3              Not eligible due to low battery range            25.0   \n",
      "4              Not eligible due to low battery range            19.0   \n",
      "\n",
      "   Base MSRP  Legislative District  DOL Vehicle ID  \\\n",
      "0        0.0                  32.0       125450447   \n",
      "1        0.0                  43.0       101662900   \n",
      "2        0.0                  26.0       272118717   \n",
      "3        0.0                  22.0       349372929   \n",
      "4        0.0                  22.0       171625653   \n",
      "\n",
      "              Vehicle Location                              Electric Utility  \\\n",
      "0  POINT (-122.36498 47.72238)  CITY OF SEATTLE - (WA)|CITY OF TACOMA - (WA)   \n",
      "1  POINT (-122.30207 47.64085)  CITY OF SEATTLE - (WA)|CITY OF TACOMA - (WA)   \n",
      "2  POINT (-122.54729 47.42602)                        PUGET SOUND ENERGY INC   \n",
      "3  POINT (-122.89166 47.03956)                        PUGET SOUND ENERGY INC   \n",
      "4  POINT (-122.87741 47.05997)                        PUGET SOUND ENERGY INC   \n",
      "\n",
      "   2020 Census Tract  \n",
      "0       5.303302e+10  \n",
      "1       5.303301e+10  \n",
      "2       5.303509e+10  \n",
      "3       5.306701e+10  \n",
      "4       5.306701e+10  \n",
      "\n",
      "Dataset Info:\n",
      "<class 'pandas.core.frame.DataFrame'>\n",
      "RangeIndex: 216772 entries, 0 to 216771\n",
      "Data columns (total 17 columns):\n",
      " #   Column                          Non-Null Count   Dtype  \n",
      "---  ------                          --------------   -----  \n",
      " 0   VIN (1-10)                      216772 non-null  object \n",
      " 1   County                          216767 non-null  object \n",
      " 2   City                            216767 non-null  object \n",
      " 3   State                           216772 non-null  object \n",
      " 4   Postal Code                     216767 non-null  float64\n",
      " 5   Model Year                      216772 non-null  int64  \n",
      " 6   Make                            216772 non-null  object \n",
      " 7   Model                           216772 non-null  object \n",
      " 8   Electric Vehicle Type           216772 non-null  object \n",
      " 9   Clean Alternative Fuel Vehicle  216772 non-null  object \n",
      " 10  Electric Range                  216753 non-null  float64\n",
      " 11  Base MSRP                       216753 non-null  float64\n",
      " 12  Legislative District            216321 non-null  float64\n",
      " 13  DOL Vehicle ID                  216772 non-null  int64  \n",
      " 14  Vehicle Location                216761 non-null  object \n",
      " 15  Electric Utility                216767 non-null  object \n",
      " 16  2020 Census Tract               216767 non-null  float64\n",
      "dtypes: float64(5), int64(2), object(10)\n",
      "memory usage: 28.1+ MB\n",
      "None\n"
     ]
    }
   ],
   "source": [
    "# Loading  the dataset\n",
    "df = pd.read_csv(\"ElectricVehicle.csv\")\n",
    "\n",
    "# This will Verify that the dataset is loaded correctly\n",
    "print(\"Dataset Overview:\")\n",
    "print(df.head())  # Displaying the first few rows \n",
    "print(\"\\nDataset Info:\")\n",
    "print(df.info())  # Display information about the data (column names, non-null counts)\n"
   ]
  },
  {
   "cell_type": "code",
   "execution_count": 3,
   "id": "019803ec-8c49-4ae1-bdea-8aba1a148695",
   "metadata": {},
   "outputs": [],
   "source": [
    "# Selecting the features and target variable\n",
    "target = 'Clean Alternative Fuel Vehicle'\n",
    "features = ['Model Year', 'Electric Range', 'Base MSRP', 'State', 'Make']\n",
    "\n",
    "# Dropping rows with missing values in the selected features\n",
    "df.dropna(subset=features + [target], inplace=True)\n",
    "\n",
    "# Encode categorical variable\n",
    "encoder = LabelEncoder()\n",
    "df['State'] = encoder.fit_transform(df['State'])\n",
    "df['Make'] = encoder.fit_transform(df['Make'])\n",
    "df[target] = encoder.fit_transform(df[target])\n",
    "\n",
    "# Train and test split 70/30\n",
    "X = df[features]\n",
    "y = df[target]\n",
    "X_train, X_test, y_train, y_test = train_test_split(X, y, test_size=0.3, random_state=42)\n",
    "\n"
   ]
  },
  {
   "cell_type": "code",
   "execution_count": 4,
   "id": "3831b417-55b2-4616-a3e0-147348311e5b",
   "metadata": {},
   "outputs": [],
   "source": [
    "# Standardise features makes the values of each feature in the data have zero-mean\n",
    "scaler = StandardScaler()\n",
    "X_train_scaled = scaler.fit_transform(X_train)\n",
    "X_test_scaled = scaler.transform(X_test)\n",
    "\n"
   ]
  },
  {
   "cell_type": "code",
   "execution_count": 6,
   "id": "3af9d012-24e7-484b-a5aa-c406671a5652",
   "metadata": {},
   "outputs": [
    {
     "data": {
      "image/png": "[encoded data removed]",
      "text/plain": [
       "<Figure size 800x600 with 1 Axes>"
      ]
     },
     "metadata": {},
     "output_type": "display_data"
    }
   ],
   "source": [
    "# Hyperparameter tuning - Finding the optimal k to train model\n",
    "accuracy_scores = []\n",
    "k_values = range(1, 21)  # Try k from 1 to 20\n",
    "\n",
    "for k in k_values:\n",
    "    knn = KNeighborsClassifier(n_neighbors=k)\n",
    "    knn.fit(X_train_scaled, y_train)\n",
    "    y_pred = knn.predict(X_test_scaled)\n",
    "    accuracy_scores.append(accuracy_score(y_test, y_pred))\n",
    "\n",
    "# Graph for accuracy scores of the differebt values of k values\n",
    "plt.figure(figsize=(8, 6))\n",
    "plt.plot(k_values, accuracy_scores, marker='o', linestyle='-', color='b')\n",
    "plt.title('KNN Accuracy for Different Values of k')\n",
    "plt.xlabel('Number of Neighbors (k)')\n",
    "plt.ylabel('Accuracy')\n",
    "plt.grid(True)\n",
    "plt.show()\n"
   ]
  },
  {
   "cell_type": "code",
   "execution_count": 11,
   "id": "d1ca5e92-93ac-4c37-a24b-6640c478a28b",
   "metadata": {},
   "outputs": [
    {
     "name": "stdout",
     "output_type": "stream",
     "text": [
      "Best k: 1, Accuracy: 99.96%\n",
      "\n",
      "Final Model Accuracy: 99.96%\n",
      "\n",
      "Final Classification Report:\n",
      "              precision    recall  f1-score   support\n",
      "\n",
      "           0       1.00      1.00      1.00     21215\n",
      "           1       1.00      1.00      1.00     37374\n",
      "           2       1.00      1.00      1.00      6437\n",
      "\n",
      "    accuracy                           1.00     65026\n",
      "   macro avg       1.00      1.00      1.00     65026\n",
      "weighted avg       1.00      1.00      1.00     65026\n",
      "\n"
     ]
    }
   ],
   "source": [
    "# Finding the optimal k and its accuracy\n",
    "best_k = k_values[np.argmax(accuracy_scores)]\n",
    "best_accuracy = max(accuracy_scores)\n",
    "print(f\"Best k: {best_k}, Accuracy: {best_accuracy * 100:.2f}%\")\n",
    "\n",
    "# Training the model with the optimal k\n",
    "best_knn = KNeighborsClassifier(n_neighbors=best_k)\n",
    "best_knn.fit(X_train_scaled, y_train)\n",
    "\n",
    "# Make the predictions and evaluate them\n",
    "y_pred = best_knn.predict(X_test_scaled)\n",
    "\n",
    "# Evaluation of the model\n",
    "accuracy = accuracy_score(y_test, y_pred)\n",
    "print(f\"\\nFinal Model Accuracy: {accuracy * 100:.2f}%\")\n",
    "\n",
    "#Display the report of the best K \n",
    "print(\"\\nFinal Classification Report:\")\n",
    "print(classification_report(y_test, y_pred))"
   ]
  },
  {
   "cell_type": "code",
   "execution_count": null,
   "id": "62c4b67a-c21f-40da-ad60-14438bc58897",
   "metadata": {},
   "outputs": [],
   "source": []
  }
 ],
 "metadata": {
  "kernelspec": {
   "display_name": "Python 3 (ipykernel)",
   "language": "python",
   "name": "python3"
  },
  "language_info": {
   "codemirror_mode": {
    "name": "ipython",
    "version": 3
   },
   "file_extension": ".py",
   "mimetype": "text/x-python",
   "name": "python",
   "nbconvert_exporter": "python",
   "pygments_lexer": "ipython3",
   "version": "3.12.4"
  }
 },
 "nbformat": 4,
 "nbformat_minor": 5
}
